{
 "cells": [
  {
   "cell_type": "code",
   "execution_count": 1,
   "metadata": {},
   "outputs": [],
   "source": [
    "import pandas as pd\n",
    "# Set display options\n",
    "pd.set_option('display.max_columns', None)      # used to show all the data column\n",
    "pd.set_option('display.max_colwidth', None)     # used to show the entire content\n",
    "pd.set_option('display.width', None)            # expanding width for long data sentences.\n"
   ]
  },
  {
   "cell_type": "code",
   "execution_count": 2,
   "metadata": {},
   "outputs": [],
   "source": [
    "Test_Data = pd.read_excel('test.xlsx')\n",
    "Train_Data = pd.read_excel('train.xlsx')"
   ]
  },
  {
   "cell_type": "code",
   "execution_count": 3,
   "metadata": {},
   "outputs": [
    {
     "name": "stdout",
     "output_type": "stream",
     "text": [
      "Total number of rows in Trian data: 69236\n",
      "Total number of rows in test data : 1002\n"
     ]
    }
   ],
   "source": [
    "# total data\n",
    "total_rows = len(Train_Data)\n",
    "print(f\"Total number of rows in Trian data: {total_rows}\")\n",
    "total_rows = len(Test_Data)\n",
    "print(f\"Total number of rows in test data : {total_rows}\")"
   ]
  },
  {
   "cell_type": "code",
   "execution_count": 4,
   "metadata": {},
   "outputs": [
    {
     "name": "stdout",
     "output_type": "stream",
     "text": [
      "The amount of nan values dropped in Test Data: 0\n",
      "The amount of nan values dropped in Train Data: 0\n"
     ]
    }
   ],
   "source": [
    "# Cleaning Nan Values , No nan values found\n",
    "print(f\"The amount of nan values dropped in Test Data: {len(Test_Data) - len(Test_Data .dropna())}\")\n",
    "print(f\"The amount of nan values dropped in Train Data: {len(Train_Data) - len(Train_Data.dropna())}\")\n",
    "Test_Data = Test_Data.dropna()\n",
    "Train_Data = Train_Data.dropna()"
   ]
  },
  {
   "cell_type": "code",
   "execution_count": 5,
   "metadata": {},
   "outputs": [],
   "source": [
    "# resetting the index\n",
    "Test_Data = Test_Data.reset_index(drop=True)\n",
    "Train_Data = Train_Data.reset_index(drop=True)"
   ]
  },
  {
   "cell_type": "code",
   "execution_count": 6,
   "metadata": {},
   "outputs": [
    {
     "name": "stdout",
     "output_type": "stream",
     "text": [
      "The amount of duplicate values dropped in Test Data: 2\n",
      "The amount of duplicate values dropped in Train Data: 698\n"
     ]
    }
   ],
   "source": [
    "# Cleaning any duplicates in the test and train data\n",
    "print(f\"The amount of duplicate values dropped in Test Data: {len(Test_Data) - len(Test_Data.drop_duplicates())}\")\n",
    "print(f\"The amount of duplicate values dropped in Train Data: {len(Train_Data) - len(Train_Data.drop_duplicates())}\")\n",
    "Train_Data = Train_Data.drop_duplicates()\n",
    "Test_Data = Test_Data.drop_duplicates()"
   ]
  },
  {
   "cell_type": "code",
   "execution_count": 7,
   "metadata": {},
   "outputs": [],
   "source": [
    "# resetting the index\n",
    "Test_Data = Test_Data.reset_index(drop=True)\n",
    "Train_Data = Train_Data.reset_index(drop=True)"
   ]
  },
  {
   "cell_type": "code",
   "execution_count": 8,
   "metadata": {},
   "outputs": [
    {
     "name": "stdout",
     "output_type": "stream",
     "text": [
      "The amount of common values values dropped in Test Data: 25\n"
     ]
    }
   ],
   "source": [
    "# removing data in the test data that is common between test and train data. \n",
    "print(f\"The amount of common values values dropped in Test Data: {len(Test_Data) - len(Test_Data[~Test_Data.isin(Train_Data.to_dict(orient='list')).all(axis=1)])}\")\n",
    "Test_Data= Test_Data[~Test_Data.isin(Train_Data.to_dict(orient='list')).all(axis=1)]"
   ]
  },
  {
   "cell_type": "code",
   "execution_count": 9,
   "metadata": {},
   "outputs": [],
   "source": [
    "# resetting the index\n",
    "Test_Data = Test_Data.reset_index(drop=True)\n",
    "Train_Data = Train_Data.reset_index(drop=True)"
   ]
  },
  {
   "cell_type": "code",
   "execution_count": 10,
   "metadata": {},
   "outputs": [
    {
     "name": "stdout",
     "output_type": "stream",
     "text": [
      "The amount of bidirectional duplicatevalues values dropped in Test Data: 0\n"
     ]
    }
   ],
   "source": [
    "# Here we are removing any bidirectional data that we have. so for example train data is  A - B , and test data is B - A, this means both dtaa represent same meaning but in oposite way, this is a problem because here model might now answer and will create issues will developing new set \n",
    "\n",
    "# combining modern and shakesperean english for both sets as tuple\n",
    "Train_pairs = set(Train_Data.apply(tuple, axis=1))\n",
    "Test_pairs = set(Test_Data.apply(tuple, axis=1))\n",
    "# finiding the bidirectional overlap\n",
    "overlap = Train_pairs & Test_pairs\n",
    "\n",
    "print(f\"The amount of bidirectional duplicatevalues values dropped in Test Data: {len(Test_Data) - len(Test_Data[~Test_Data.apply(tuple, axis=1).isin(overlap)])}\")\n",
    "Test_Data = Test_Data[~Test_Data.apply(tuple, axis=1).isin(overlap)]"
   ]
  },
  {
   "cell_type": "code",
   "execution_count": 11,
   "metadata": {},
   "outputs": [],
   "source": [
    "# resetting the index\n",
    "Test_Data = Test_Data.reset_index(drop=True)\n",
    "Train_Data = Train_Data.reset_index(drop=True)"
   ]
  },
  {
   "cell_type": "code",
   "execution_count": 12,
   "metadata": {},
   "outputs": [
    {
     "name": "stdout",
     "output_type": "stream",
     "text": [
      "Row 7438 - Modern English: Changing all your sad songsInto \"Hey, nonny nonny.\" Sing no more laments, sing no more Mournful tunes so sad and heavy.\n",
      "  Missing space patterns found Train_Data is : ['sI']\n",
      "Row 29709 - Modern English: I'lI swear to the prince that you're hardworking and not likely to get drunk,\n",
      "  Missing space patterns found Train_Data is : ['lI']\n",
      "Row Number 33849 - Shakesperean English : while our scene must play His daughter's woe and heavy well-a-dayIn her unholy service.\n",
      "  Missing space patterns found in Train_Data is : ['yI']\n",
      "Row Number 51117 - Shakesperean English : And for a retreat, how swiftly will thisFeeble the woman’s tailor, run off! O, give me the sparemen, and spare me the great ones.\n",
      "  Missing space patterns found in Train_Data is : ['sF']\n",
      "Row Number 57641 - Shakesperean English : [to TRINCULO] Do I so? Take thou that. [beatsTRINCULO] As you like this, give me the lie another time.\n",
      "  Missing space patterns found in Train_Data is : ['sT']\n"
     ]
    }
   ],
   "source": [
    "import re\n",
    "# some redudancy was found in data while analyzing that 2 differents words were joint and had missing space, this peince of code analysis how many such missing peices of spaces between 2 words are there for both shakesperean and modern english\n",
    "# Th logic after observing is that a lowercase letter is joint with another word and most of the time the 2nd word starts from a uppercase letter like data row no 15 has unfoldHis , here H is in capital and d is small, using this we will analyze it\n",
    "# find the lowercase and upper case word combination having missing spaces\n",
    "def missed_space(text):\n",
    "    match = re.findall(r'[a-z][A-Z]', text)\n",
    "    return match if match else None\n",
    "\n",
    "# checking the missed space and discplaying reuslts and also putting two counters to get the numbers for missed spaces\n",
    "i=0 # missed spaces in Shakespearean English\n",
    "j=0 # missed spaces in Modern english\n",
    "for index, row in Train_Data.iterrows():\n",
    "    shakespeare = row['Shakesperean English']\n",
    "    modern = row['Modern English']\n",
    "    \n",
    "    # Check Shakespearean English \n",
    "    errors = missed_space(shakespeare)\n",
    "    if errors:\n",
    "        i=i+1\n",
    "        print(f\"Row Number {index} - Shakesperean English : {shakespeare}\")\n",
    "        print(f\"  Missing space patterns found in Train_Data is : {errors}\")\n",
    "        \n",
    "    # Check Modern English \n",
    "    modern_errors = missed_space(modern)\n",
    "    if modern_errors:\n",
    "        j=j+1\n",
    "        print(f\"Row {index} - Modern English: {modern}\")\n",
    "        print(f\"  Missing space patterns found Train_Data is : {modern_errors}\")\n"
   ]
  },
  {
   "cell_type": "code",
   "execution_count": 13,
   "metadata": {},
   "outputs": [
    {
     "name": "stdout",
     "output_type": "stream",
     "text": [
      "Shakesperean english have the issue of lower case and upper case combination or space issue for Train data : \n",
      "3\n",
      "Modern english have the issue of lower case and upper case combination or space issue for Train data : \n",
      "2\n"
     ]
    }
   ],
   "source": [
    "print(\"Shakesperean english have the issue of lower case and upper case combination or space issue for Train data : \")\n",
    "print(i)\n",
    "print(\"Modern english have the issue of lower case and upper case combination or space issue for Train data : \" )\n",
    "print(j)"
   ]
  },
  {
   "cell_type": "code",
   "execution_count": 14,
   "metadata": {},
   "outputs": [],
   "source": [
    "import re\n",
    "# some redudancy was found in data while analyzing that 2 differents words were joint and had missing space, this peince of code analysis how many such missing peices of spaces between 2 words are there for both shakesperean and modern english\n",
    "# Th logic after observing is that a lowercase letter is joint with another word and most of the time the 2nd word starts from a uppercase letter like data row no 15 has unfoldHis , here H is in capital and d is small, using this we will analyze it\n",
    "# find the lowercase and upper case word combination having missing spaces\n",
    "def missed_space(text):\n",
    "    match = re.findall(r'[a-z][A-Z]', text)\n",
    "    return match if match else None\n",
    "\n",
    "# checking the missed space and discplaying reuslts and also putting two counters to get the numbers for missed spaces\n",
    "i=0 # missed spaces in Shakespearean English\n",
    "j=0 # missed spaces in Modern english\n",
    "for index, row in Test_Data.iterrows():\n",
    "    shakespeare = row['Shakesperean English']\n",
    "    modern = row['Modern English']\n",
    "    \n",
    "    # Check Shakespearean English \n",
    "    errors = missed_space(shakespeare)\n",
    "    if errors:\n",
    "        i=i+1\n",
    "        print(f\"Row Number {index} - Shakesperean English : {shakespeare}\")\n",
    "        print(f\"  Missing space patterns found in Train_Data is : {errors}\")\n",
    "        \n",
    "    # Check Modern English \n",
    "    modern_errors = missed_space(modern)\n",
    "    if modern_errors:\n",
    "        j=j+1\n",
    "        print(f\"Row {index} - Modern English: {modern}\")\n",
    "        print(f\"  Missing space patterns found Train_Data is : {modern_errors}\")"
   ]
  },
  {
   "cell_type": "code",
   "execution_count": 15,
   "metadata": {},
   "outputs": [
    {
     "name": "stdout",
     "output_type": "stream",
     "text": [
      "Shakesperean english have the issue of lower case and upper case combination or space issue for Test data : \n",
      "0\n",
      "Modern english have the issue of lower case and upper case combination or space issue for Test data : \n",
      "0\n"
     ]
    }
   ],
   "source": [
    "print(\"Shakesperean english have the issue of lower case and upper case combination or space issue for Test data : \")\n",
    "print(i)\n",
    "print(\"Modern english have the issue of lower case and upper case combination or space issue for Test data : \" )\n",
    "print(j)"
   ]
  },
  {
   "cell_type": "code",
   "execution_count": 16,
   "metadata": {},
   "outputs": [
    {
     "name": "stdout",
     "output_type": "stream",
     "text": [
      "                                                                                                                                                                                     Shakesperean English  \\\n",
      "0                                                                                                                                                                     I overheard him and his practices .   \n",
      "1                                                                             I have possessed your grace of what I purpose, And by our holy Sabbath have I sworn To have the due and forfeit of my bond.   \n",
      "2                                                                                                                                      and against your cony-catching rascals, Bardolph, Nym, and Pistol.   \n",
      "3                                                                                                                                 But for your words , they rob the Hybla bees And leave them honeyless .   \n",
      "4                                                                                                                                                                                                O dear !   \n",
      "...                                                                                                                                                                                                   ...   \n",
      "68533                                                                                                                                                                                Be assured you may .   \n",
      "68534                                                                                                  O cursed wretch, That knew'st this was the prince, and wouldst adventure To mingle faith with him!   \n",
      "68535                                                                                                                                                                                          Tis well .   \n",
      "68536                                                                                                       For we have now no thought in us but France, Save those to God, that run before our business.   \n",
      "68537  they say the jealous wittolly knave hath masses of money; for the which his wife seems to me well-favored. I will use her as the key of the cuckoldly rogue's coffer; and there's my harvest-home.   \n",
      "\n",
      "                                                                                                                                                                                      Modern English  \n",
      "0                                                                                                                                                                    I overheard him and his plans .  \n",
      "1                                                           Your grace, I have told you what my intention is, and I have sworn by the holy Sabbath to take what is owed to me by our legal contract.  \n",
      "2                                                                                                                                    and about your cheating scoundrels, Bardolph, Nym, and Pistol.   \n",
      "3                                                                                                    But your words are as sweet as honey , you've stolen from the bees and left them with nothing .  \n",
      "4                                                                                                                                                                                        Oh , dear !  \n",
      "...                                                                                                                                                                                              ...  \n",
      "68533                                                                                                                                                                          I assure you he can .  \n",
      "68534                                                                                                                      How dare you continue to play around with him, knowing he was the prince?  \n",
      "68535                                                                                                                                                                                 That's great .  \n",
      "68536                                                                                               because I don't have any thoughts except about France and our business there, and of course God.  \n",
      "68537  People say that that jealous has tons of money, which is why I find his wife attractive. I'll use her to get access to that foolish scoundrel's money, and that will be a huge profit to me.   \n",
      "\n",
      "[68538 rows x 2 columns]\n"
     ]
    }
   ],
   "source": [
    "# As per the abov calculations the missing space issue was in 3 shakesperean english and 2 in modern english  for Train data\n",
    "#here we are just using a simple solution of inserting space between words whcih have lowercase word followed by upper case without any space\n",
    "def fix_missed_space(text):\n",
    "    # Regular expression to match a lowercase letter followed directly by an uppercase letter\n",
    "    texts = re.sub(r'([a-z])([A-Z])', r'\\1 \\2', text)\n",
    "    return texts\n",
    "\n",
    "# Apply the function to the DataFrame column\n",
    "Train_Data['Shakesperean English'] = Train_Data['Shakesperean English'].apply(lambda x: fix_missed_space(x) if isinstance(x, str) else x)\n",
    "Train_Data['Modern English'] = Train_Data['Modern English'].apply(lambda x: fix_missed_space(x) if isinstance(x, str) else x)\n",
    "# Display the fixed DataFrame\n",
    "print(Train_Data)"
   ]
  },
  {
   "cell_type": "code",
   "execution_count": 17,
   "metadata": {},
   "outputs": [],
   "source": [
    "# resetting the index\n",
    "Test_Data = Test_Data.reset_index(drop=True)\n",
    "Train_Data = Train_Data.reset_index(drop=True)"
   ]
  },
  {
   "cell_type": "code",
   "execution_count": 18,
   "metadata": {},
   "outputs": [],
   "source": [
    "# rechecking if such data exist after the fix\n",
    "# find the lowercase and upper case word combination having missing spaces\n",
    "def missed_space(text):\n",
    "    match = re.findall(r'[a-z][A-Z]', text)\n",
    "    return match if match else None\n",
    "\n",
    "# checking the missed space and discplaying reuslts and also putting two counters to get the numbers for missed spaces\n",
    "i=0 # missed spaces in Shakespearean English\n",
    "j=0 # missed spaces in Modern english\n",
    "for index, row in Train_Data.iterrows():\n",
    "    shakespeare = row['Shakesperean English']\n",
    "    modern = row['Modern English']\n",
    "    \n",
    "    # Check Shakespearean English \n",
    "    errors = missed_space(shakespeare)\n",
    "    if errors:\n",
    "        i=i+1\n",
    "        print(f\"Row Number {index} - Shakesperean English : {shakespeare}\")\n",
    "        print(f\"  Missing space patterns found is : {errors}\")\n",
    "        \n",
    "    # Check Modern English \n",
    "    modern_errors = missed_space(modern)\n",
    "    if modern_errors:\n",
    "        j=j+1\n",
    "        print(f\"Row {index} - Modern English: {modern}\")\n",
    "        print(f\"  Missing space patterns found is : {modern_errors}\")\n"
   ]
  },
  {
   "cell_type": "code",
   "execution_count": 19,
   "metadata": {},
   "outputs": [
    {
     "name": "stdout",
     "output_type": "stream",
     "text": [
      "0\n",
      "0\n"
     ]
    }
   ],
   "source": [
    "print(i)\n",
    "print(j)\n",
    "# no such data exist with missed spaces data ."
   ]
  },
  {
   "cell_type": "code",
   "execution_count": 20,
   "metadata": {},
   "outputs": [],
   "source": [
    "# Converting the sentences into lower case english sentences until and unless we encounter the word whih is fully capital letter\n",
    "\n",
    "def lc(text):\n",
    "    try:\n",
    "        words = text.split()\n",
    "        changed_words = [word if word.isupper() else word.lower() for word in words]\n",
    "        return ' '.join(changed_words)\n",
    "    except:\n",
    "        print(text)\n",
    "    "
   ]
  },
  {
   "cell_type": "code",
   "execution_count": 21,
   "metadata": {},
   "outputs": [
    {
     "data": {
      "text/html": [
       "<div>\n",
       "<style scoped>\n",
       "    .dataframe tbody tr th:only-of-type {\n",
       "        vertical-align: middle;\n",
       "    }\n",
       "\n",
       "    .dataframe tbody tr th {\n",
       "        vertical-align: top;\n",
       "    }\n",
       "\n",
       "    .dataframe thead th {\n",
       "        text-align: right;\n",
       "    }\n",
       "</style>\n",
       "<table border=\"1\" class=\"dataframe\">\n",
       "  <thead>\n",
       "    <tr style=\"text-align: right;\">\n",
       "      <th></th>\n",
       "      <th>Shakesperean English</th>\n",
       "      <th>Modern English</th>\n",
       "    </tr>\n",
       "  </thead>\n",
       "  <tbody>\n",
       "    <tr>\n",
       "      <th>0</th>\n",
       "      <td>I overheard him and his practices .</td>\n",
       "      <td>I overheard him and his plans .</td>\n",
       "    </tr>\n",
       "    <tr>\n",
       "      <th>1</th>\n",
       "      <td>I have possessed your grace of what I purpose, and by our holy sabbath have I sworn to have the due and forfeit of my bond.</td>\n",
       "      <td>your grace, I have told you what my intention is, and I have sworn by the holy sabbath to take what is owed to me by our legal contract.</td>\n",
       "    </tr>\n",
       "    <tr>\n",
       "      <th>2</th>\n",
       "      <td>and against your cony-catching rascals, bardolph, nym, and pistol.</td>\n",
       "      <td>and about your cheating scoundrels, bardolph, nym, and pistol.</td>\n",
       "    </tr>\n",
       "    <tr>\n",
       "      <th>3</th>\n",
       "      <td>but for your words , they rob the hybla bees and leave them honeyless .</td>\n",
       "      <td>but your words are as sweet as honey , you've stolen from the bees and left them with nothing .</td>\n",
       "    </tr>\n",
       "    <tr>\n",
       "      <th>4</th>\n",
       "      <td>O dear !</td>\n",
       "      <td>oh , dear !</td>\n",
       "    </tr>\n",
       "    <tr>\n",
       "      <th>...</th>\n",
       "      <td>...</td>\n",
       "      <td>...</td>\n",
       "    </tr>\n",
       "    <tr>\n",
       "      <th>68533</th>\n",
       "      <td>be assured you may .</td>\n",
       "      <td>I assure you he can .</td>\n",
       "    </tr>\n",
       "    <tr>\n",
       "      <th>68534</th>\n",
       "      <td>O cursed wretch, that knew'st this was the prince, and wouldst adventure to mingle faith with him!</td>\n",
       "      <td>how dare you continue to play around with him, knowing he was the prince?</td>\n",
       "    </tr>\n",
       "    <tr>\n",
       "      <th>68535</th>\n",
       "      <td>tis well .</td>\n",
       "      <td>that's great .</td>\n",
       "    </tr>\n",
       "    <tr>\n",
       "      <th>68536</th>\n",
       "      <td>for we have now no thought in us but france, save those to god, that run before our business.</td>\n",
       "      <td>because I don't have any thoughts except about france and our business there, and of course god.</td>\n",
       "    </tr>\n",
       "    <tr>\n",
       "      <th>68537</th>\n",
       "      <td>they say the jealous wittolly knave hath masses of money; for the which his wife seems to me well-favored. I will use her as the key of the cuckoldly rogue's coffer; and there's my harvest-home.</td>\n",
       "      <td>people say that that jealous has tons of money, which is why I find his wife attractive. i'll use her to get access to that foolish scoundrel's money, and that will be a huge profit to me.</td>\n",
       "    </tr>\n",
       "  </tbody>\n",
       "</table>\n",
       "<p>68538 rows × 2 columns</p>\n",
       "</div>"
      ],
      "text/plain": [
       "                                                                                                                                                                                     Shakesperean English  \\\n",
       "0                                                                                                                                                                     I overheard him and his practices .   \n",
       "1                                                                             I have possessed your grace of what I purpose, and by our holy sabbath have I sworn to have the due and forfeit of my bond.   \n",
       "2                                                                                                                                      and against your cony-catching rascals, bardolph, nym, and pistol.   \n",
       "3                                                                                                                                 but for your words , they rob the hybla bees and leave them honeyless .   \n",
       "4                                                                                                                                                                                                O dear !   \n",
       "...                                                                                                                                                                                                   ...   \n",
       "68533                                                                                                                                                                                be assured you may .   \n",
       "68534                                                                                                  O cursed wretch, that knew'st this was the prince, and wouldst adventure to mingle faith with him!   \n",
       "68535                                                                                                                                                                                          tis well .   \n",
       "68536                                                                                                       for we have now no thought in us but france, save those to god, that run before our business.   \n",
       "68537  they say the jealous wittolly knave hath masses of money; for the which his wife seems to me well-favored. I will use her as the key of the cuckoldly rogue's coffer; and there's my harvest-home.   \n",
       "\n",
       "                                                                                                                                                                                     Modern English  \n",
       "0                                                                                                                                                                   I overheard him and his plans .  \n",
       "1                                                          your grace, I have told you what my intention is, and I have sworn by the holy sabbath to take what is owed to me by our legal contract.  \n",
       "2                                                                                                                                    and about your cheating scoundrels, bardolph, nym, and pistol.  \n",
       "3                                                                                                   but your words are as sweet as honey , you've stolen from the bees and left them with nothing .  \n",
       "4                                                                                                                                                                                       oh , dear !  \n",
       "...                                                                                                                                                                                             ...  \n",
       "68533                                                                                                                                                                         I assure you he can .  \n",
       "68534                                                                                                                     how dare you continue to play around with him, knowing he was the prince?  \n",
       "68535                                                                                                                                                                                that's great .  \n",
       "68536                                                                                              because I don't have any thoughts except about france and our business there, and of course god.  \n",
       "68537  people say that that jealous has tons of money, which is why I find his wife attractive. i'll use her to get access to that foolish scoundrel's money, and that will be a huge profit to me.  \n",
       "\n",
       "[68538 rows x 2 columns]"
      ]
     },
     "execution_count": 21,
     "metadata": {},
     "output_type": "execute_result"
    }
   ],
   "source": [
    "Train_Data['Shakesperean English']= Train_Data['Shakesperean English'].apply(lambda x : lc(x)) \n",
    "Train_Data['Modern English']= Train_Data['Modern English'].apply(lambda x : lc(x))\n",
    "Train_Data"
   ]
  },
  {
   "cell_type": "code",
   "execution_count": 22,
   "metadata": {},
   "outputs": [
    {
     "data": {
      "text/html": [
       "<div>\n",
       "<style scoped>\n",
       "    .dataframe tbody tr th:only-of-type {\n",
       "        vertical-align: middle;\n",
       "    }\n",
       "\n",
       "    .dataframe tbody tr th {\n",
       "        vertical-align: top;\n",
       "    }\n",
       "\n",
       "    .dataframe thead th {\n",
       "        text-align: right;\n",
       "    }\n",
       "</style>\n",
       "<table border=\"1\" class=\"dataframe\">\n",
       "  <thead>\n",
       "    <tr style=\"text-align: right;\">\n",
       "      <th></th>\n",
       "      <th>Shakesperean English</th>\n",
       "      <th>Modern English</th>\n",
       "    </tr>\n",
       "  </thead>\n",
       "  <tbody>\n",
       "    <tr>\n",
       "      <th>0</th>\n",
       "      <td>commend me to lord william. tell him, catesby, his ancient knot of dangerous adversaries tomorrow are let blood at pomfret castle,</td>\n",
       "      <td>give my regards to lord hastings. tell him, catesby, that the dangerous enemies who have plagued him for years will be executed tomorrow at pomfret castle.</td>\n",
       "    </tr>\n",
       "    <tr>\n",
       "      <th>1</th>\n",
       "      <td>pray you do not, sir. I have watched and traveled hard. some time I shall sleep out. the rest i’ll whistle.</td>\n",
       "      <td>please don't, sir. i've been awake and traveling for a long time. I can catch up on sleep while i'm locked up here, and i'll whistle for the rest of the time to entertain myself.</td>\n",
       "    </tr>\n",
       "    <tr>\n",
       "      <th>2</th>\n",
       "      <td>here goths have given me leave to sheathe my sword. titus, unkind and careless of thine own,</td>\n",
       "      <td>here, for once, i’m putting down my sword. titus, you've been unkind and careless to your own children.</td>\n",
       "    </tr>\n",
       "    <tr>\n",
       "      <th>3</th>\n",
       "      <td>no boasting like a fool .</td>\n",
       "      <td>no more foolish talk .</td>\n",
       "    </tr>\n",
       "    <tr>\n",
       "      <th>4</th>\n",
       "      <td>O, I am mock'd, and thou by some incensed god sent hither to make the world to laugh at me.</td>\n",
       "      <td>this is a joke. some angry god has sent you here to make the world laugh at me.</td>\n",
       "    </tr>\n",
       "    <tr>\n",
       "      <th>...</th>\n",
       "      <td>...</td>\n",
       "      <td>...</td>\n",
       "    </tr>\n",
       "    <tr>\n",
       "      <th>970</th>\n",
       "      <td>sirrah, no more!</td>\n",
       "      <td>sir, that's enough!</td>\n",
       "    </tr>\n",
       "    <tr>\n",
       "      <th>971</th>\n",
       "      <td>shall I strike at it with my partisan ?</td>\n",
       "      <td>should I strike it with my spear ?</td>\n",
       "    </tr>\n",
       "    <tr>\n",
       "      <th>972</th>\n",
       "      <td>you must speak louder. my master is deaf.</td>\n",
       "      <td>sorry, you need to speak louder. my master is deaf.</td>\n",
       "    </tr>\n",
       "    <tr>\n",
       "      <th>973</th>\n",
       "      <td>rise, titus, rise; my empress hath prevail'd.</td>\n",
       "      <td>rise, titus, rise; my empress has convinced me.</td>\n",
       "    </tr>\n",
       "    <tr>\n",
       "      <th>974</th>\n",
       "      <td>he straight declined, droop'd, took it deeply, fasten'd and fix'd the shame on't in himself, threw off his spirit, his appetite, his sleep, and downright languish'd.</td>\n",
       "      <td>he took it hard, as if her shame were his own personal burden. he stopped smiling, eating, and sleeping and then became bedridden.</td>\n",
       "    </tr>\n",
       "  </tbody>\n",
       "</table>\n",
       "<p>975 rows × 2 columns</p>\n",
       "</div>"
      ],
      "text/plain": [
       "                                                                                                                                                      Shakesperean English  \\\n",
       "0                                       commend me to lord william. tell him, catesby, his ancient knot of dangerous adversaries tomorrow are let blood at pomfret castle,   \n",
       "1                                                              pray you do not, sir. I have watched and traveled hard. some time I shall sleep out. the rest i’ll whistle.   \n",
       "2                                                                             here goths have given me leave to sheathe my sword. titus, unkind and careless of thine own,   \n",
       "3                                                                                                                                                no boasting like a fool .   \n",
       "4                                                                              O, I am mock'd, and thou by some incensed god sent hither to make the world to laugh at me.   \n",
       "..                                                                                                                                                                     ...   \n",
       "970                                                                                                                                                       sirrah, no more!   \n",
       "971                                                                                                                                shall I strike at it with my partisan ?   \n",
       "972                                                                                                                              you must speak louder. my master is deaf.   \n",
       "973                                                                                                                          rise, titus, rise; my empress hath prevail'd.   \n",
       "974  he straight declined, droop'd, took it deeply, fasten'd and fix'd the shame on't in himself, threw off his spirit, his appetite, his sleep, and downright languish'd.   \n",
       "\n",
       "                                                                                                                                                                         Modern English  \n",
       "0                           give my regards to lord hastings. tell him, catesby, that the dangerous enemies who have plagued him for years will be executed tomorrow at pomfret castle.  \n",
       "1    please don't, sir. i've been awake and traveling for a long time. I can catch up on sleep while i'm locked up here, and i'll whistle for the rest of the time to entertain myself.  \n",
       "2                                                                               here, for once, i’m putting down my sword. titus, you've been unkind and careless to your own children.  \n",
       "3                                                                                                                                                                no more foolish talk .  \n",
       "4                                                                                                       this is a joke. some angry god has sent you here to make the world laugh at me.  \n",
       "..                                                                                                                                                                                  ...  \n",
       "970                                                                                                                                                                 sir, that's enough!  \n",
       "971                                                                                                                                                  should I strike it with my spear ?  \n",
       "972                                                                                                                                 sorry, you need to speak louder. my master is deaf.  \n",
       "973                                                                                                                                     rise, titus, rise; my empress has convinced me.  \n",
       "974                                                  he took it hard, as if her shame were his own personal burden. he stopped smiling, eating, and sleeping and then became bedridden.  \n",
       "\n",
       "[975 rows x 2 columns]"
      ]
     },
     "execution_count": 22,
     "metadata": {},
     "output_type": "execute_result"
    }
   ],
   "source": [
    "Test_Data['Shakesperean English']= Test_Data['Shakesperean English'].apply(lambda x : lc(x)) \n",
    "Test_Data['Modern English']= Test_Data['Modern English'].apply(lambda x : lc(x))\n",
    "Test_Data"
   ]
  },
  {
   "cell_type": "code",
   "execution_count": 23,
   "metadata": {},
   "outputs": [
    {
     "name": "stdout",
     "output_type": "stream",
     "text": [
      "Special characters found: {'é', '”', '!', ':', '‘', ';', '.', 'è', ']', '(', '\"', '-', '’', '—', \"'\", ',', 'Ô', '?', ')', '[', '“'}\n"
     ]
    }
   ],
   "source": [
    "# Finding all the special chars\n",
    "def special_char(Test_Data):\n",
    "    special_chars = set()  # Making a data frame to store all the special chars\n",
    " \n",
    "    for col in Test_Data.columns:\n",
    "        for value in Test_Data[col].astype(str):  # Converting each cell to strign for processing purpose\n",
    "            # Find special chars ignoring alpha numeric characters\n",
    "            char = re.findall(r'[^a-zA-Z0-9\\s]', value)\n",
    "            special_chars.update(char)  # adding unique characters to the data frame\n",
    " \n",
    "    return special_chars\n",
    " \n",
    "special_characters = special_char(Test_Data)\n",
    "print(\"Special characters found:\", special_characters)"
   ]
  },
  {
   "cell_type": "code",
   "execution_count": 24,
   "metadata": {},
   "outputs": [
    {
     "name": "stdout",
     "output_type": "stream",
     "text": [
      "Special characters found: {'é', 'ï', '–', '”', '!', '&', ':', 'ç', '…', '‘', ';', '.', 'æ', 'à', 'è', ']', '(', 'â', '\"', 'î', '-', '’', '—', ',', \"'\", 'Ô', '?', ')', 'ê', '$', '[', '“'}\n"
     ]
    }
   ],
   "source": [
    "# Finding all the special chars\n",
    "def special_char(Train_Data):\n",
    "    special_chars = set()  # Making a data frame to store all the special chars\n",
    " \n",
    "    for col in Train_Data.columns:\n",
    "        for value in Train_Data[col].astype(str):  # Converting each cell to strign for processing purpose\n",
    "            # Find special chars ignoring alpha numeric characters\n",
    "            char = re.findall(r'[^a-zA-Z0-9\\s]', value)\n",
    "            special_chars.update(char)  # adding unique characters to the data frame\n",
    " \n",
    "    return special_chars\n",
    " \n",
    "special_characters = special_char(Train_Data)\n",
    "print(\"Special characters found:\", special_characters)"
   ]
  },
  {
   "cell_type": "code",
   "execution_count": 25,
   "metadata": {},
   "outputs": [],
   "source": [
    "# We prepared replacement dictionery by going over the special characters to change it into normalized form, however we do not inclue characters like (, ) or ? in this converstion as it gives important information about the sentence dialect\n",
    "replacement_dict = {\n",
    "    'é': 'e', 'è': 'e', 'ë': 'e', 'ê': 'e', 'à': 'a', 'â': 'a', 'á': 'a', 'ç': 'c', 'î': 'i', 'ï': 'i', \n",
    "    'ó': 'o', 'ô': 'o', 'ú': 'u', 'Ô': 'O', 'æ': 'ae', '“': '\"', '”': '\"', '‘': \"'\", '’': \"'\", \n",
    "    '—': '-', '–': '-', '…': '...', '&': 'and'\n",
    "}\n",
    "\n",
    "# Using the clean function to replace these characters as per the dictionery\n",
    "def clean(text):\n",
    "    for char, replacement in replacement_dict.items():\n",
    "        text = text.replace(char, replacement)\n",
    "    return text\n",
    "\n"
   ]
  },
  {
   "cell_type": "code",
   "execution_count": 26,
   "metadata": {},
   "outputs": [],
   "source": [
    "Train_Data['Shakesperean English'] = Train_Data['Shakesperean English'].apply(lambda x: clean(x))\n",
    "Train_Data['Modern English'] = Train_Data['Modern English'].apply(lambda x: clean(x))\n",
    "\n",
    "Test_Data['Shakesperean English'] = Test_Data['Shakesperean English'].apply(lambda x: clean(x))\n",
    "Test_Data['Modern English'] = Test_Data['Modern English'].apply(lambda x: clean(x))"
   ]
  },
  {
   "cell_type": "code",
   "execution_count": 27,
   "metadata": {},
   "outputs": [],
   "source": [
    "# removing whitespaces\n",
    "Train_Data['Shakesperean English'] = Train_Data['Shakesperean English'].str.replace(r'\\s+', ' ', regex=True).str.strip()\n",
    "Train_Data['Modern English'] = Train_Data['Modern English'].str.replace(r'\\s+', ' ', regex=True).str.strip()\n",
    "\n",
    "Test_Data['Shakesperean English'] = Test_Data['Shakesperean English'].str.replace(r'\\s+', ' ', regex=True).str.strip()\n",
    "Test_Data['Modern English'] = Test_Data['Modern English'].str.replace(r'\\s+', ' ', regex=True).str.strip()"
   ]
  },
  {
   "cell_type": "code",
   "execution_count": 28,
   "metadata": {},
   "outputs": [],
   "source": [
    "# checking if any other non ascii charater was missed during replacement part and changing it to the nearest ascii value, post doing a quick test we found out there was no suc character\n",
    "import unicodedata\n",
    "\n",
    "original_Train_Data = Train_Data\n",
    "original_Test_Data = Test_Data\n",
    "\n",
    "def unicode(text):\n",
    "    return unicodedata.normalize('NFKD', text).encode('ascii', 'ignore').decode('utf-8')\n",
    "\n",
    "Train_Data['Shakesperean English'] = Train_Data['Shakesperean English'].apply(lambda x: unicode(x))\n",
    "Train_Data['Modern English'] = Train_Data['Modern English'].apply(lambda x: unicode(x))\n",
    "\n",
    "\n",
    "Train_Data['Shakesperean English'] = Train_Data['Shakesperean English'].apply(lambda x: unicode(x))\n",
    "Train_Data['Modern English'] = Train_Data['Modern English'].apply(lambda x: unicode(x))"
   ]
  },
  {
   "cell_type": "code",
   "execution_count": 29,
   "metadata": {},
   "outputs": [],
   "source": [
    "# we will be doing this particular step in modern english only which is changing the word to its root form so form can't to cannot and the reson for not doing in shakesperean english is due to dilect convservations for model to pick the style \n",
    "import contractions\n",
    "\n",
    "def contract(text):\n",
    "    return contractions.fix(text)\n",
    "\n",
    "Train_Data['Modern English'] = Train_Data['Modern English'].apply(lambda x: contract(x))\n",
    "Test_Data['Modern English'] = Test_Data['Modern English'].apply(lambda x: contract(x))"
   ]
  },
  {
   "cell_type": "code",
   "execution_count": 30,
   "metadata": {},
   "outputs": [
    {
     "name": "stdout",
     "output_type": "stream",
     "text": [
      "Total number of rows in Trian data: 68538\n",
      "Total number of rows in test data : 975\n"
     ]
    }
   ],
   "source": [
    "# total data\n",
    "total_rows = len(Train_Data)\n",
    "print(f\"Total number of rows in Trian data: {total_rows}\")\n",
    "total_rows = len(Test_Data)\n",
    "print(f\"Total number of rows in test data : {total_rows}\")"
   ]
  }
 ],
 "metadata": {
  "kernelspec": {
   "display_name": "aisa",
   "language": "python",
   "name": "python3"
  },
  "language_info": {
   "codemirror_mode": {
    "name": "ipython",
    "version": 3
   },
   "file_extension": ".py",
   "mimetype": "text/x-python",
   "name": "python",
   "nbconvert_exporter": "python",
   "pygments_lexer": "ipython3",
   "version": "3.10.14"
  }
 },
 "nbformat": 4,
 "nbformat_minor": 2
}
